{
  "nbformat": 4,
  "nbformat_minor": 0,
  "metadata": {
    "colab": {
      "name": "Untitled7.ipynb",
      "provenance": [],
      "include_colab_link": true
    },
    "kernelspec": {
      "name": "python3",
      "display_name": "Python 3"
    }
  },
  "cells": [
    {
      "cell_type": "markdown",
      "metadata": {
        "id": "view-in-github",
        "colab_type": "text"
      },
      "source": [
        "<a href=\"https://colab.research.google.com/github/xuancuong0811/github/blob/master/Untitled7.ipynb\" target=\"_parent\"><img src=\"https://colab.research.google.com/assets/colab-badge.svg\" alt=\"Open In Colab\"/></a>"
      ]
    },
    {
      "cell_type": "code",
      "metadata": {
        "id": "2xFB3fL3QhIg",
        "colab_type": "code",
        "colab": {
          "base_uri": "https://localhost:8080/",
          "height": 50
        },
        "outputId": "dba76e57-61e0-421a-e477-f6d3e00432c4"
      },
      "source": [
        "List_A=[1,1,2,5,5,5,8,8,9]\n",
        "print(List_A)\n",
        "List_B=[1,2,2,3,3,3,6,10]\n",
        "print(List_B)"
      ],
      "execution_count": 14,
      "outputs": [
        {
          "output_type": "stream",
          "text": [
            "[1, 1, 2, 5, 5, 5, 8, 8, 9]\n",
            "[1, 2, 2, 3, 3, 3, 6, 10]\n"
          ],
          "name": "stdout"
        }
      ]
    },
    {
      "cell_type": "code",
      "metadata": {
        "id": "QZrdhrvaTEil",
        "colab_type": "code",
        "colab": {
          "base_uri": "https://localhost:8080/",
          "height": 50
        },
        "outputId": "1b94a311-b7ea-4874-e160-acb573de7130"
      },
      "source": [
        "List_A_set=set(List_A)\n",
        "print(List_A_set)\n",
        "List_B_set=set(List_B)\n",
        "print(List_B_set)"
      ],
      "execution_count": 12,
      "outputs": [
        {
          "output_type": "stream",
          "text": [
            "{1, 2, 5, 8, 9}\n",
            "{1, 2, 3, 6, 10}\n"
          ],
          "name": "stdout"
        }
      ]
    },
    {
      "cell_type": "code",
      "metadata": {
        "id": "9Ndu8jjXS4Iu",
        "colab_type": "code",
        "colab": {
          "base_uri": "https://localhost:8080/",
          "height": 33
        },
        "outputId": "e473d1c2-60fe-40f5-c554-e9323024582f"
      },
      "source": [
        "List_A_set|List_B_set"
      ],
      "execution_count": 9,
      "outputs": [
        {
          "output_type": "execute_result",
          "data": {
            "text/plain": [
              "{1, 2, 3, 5, 6, 8, 9, 10}"
            ]
          },
          "metadata": {
            "tags": []
          },
          "execution_count": 9
        }
      ]
    },
    {
      "cell_type": "code",
      "metadata": {
        "id": "7K6cSmz8TWU0",
        "colab_type": "code",
        "colab": {
          "base_uri": "https://localhost:8080/",
          "height": 33
        },
        "outputId": "e52ff45d-e9b6-4a77-de25-e469a3b94e67"
      },
      "source": [
        "List_A_set&List_B_set"
      ],
      "execution_count": 11,
      "outputs": [
        {
          "output_type": "execute_result",
          "data": {
            "text/plain": [
              "{1, 2}"
            ]
          },
          "metadata": {
            "tags": []
          },
          "execution_count": 11
        }
      ]
    },
    {
      "cell_type": "code",
      "metadata": {
        "id": "puIKLEJKTjXk",
        "colab_type": "code",
        "colab": {
          "base_uri": "https://localhost:8080/",
          "height": 33
        },
        "outputId": "57354dbb-7f13-40ac-d179-0765e97a4758"
      },
      "source": [
        "List_A_set#List_B_set"
      ],
      "execution_count": 15,
      "outputs": [
        {
          "output_type": "execute_result",
          "data": {
            "text/plain": [
              "{1, 2, 5, 8, 9}"
            ]
          },
          "metadata": {
            "tags": []
          },
          "execution_count": 15
        }
      ]
    },
    {
      "cell_type": "code",
      "metadata": {
        "id": "Dcu3dkBRYJgC",
        "colab_type": "code",
        "colab": {
          "base_uri": "https://localhost:8080/",
          "height": 33
        },
        "outputId": "94f38656-1ec0-4a58-c35c-9c0b5508c960"
      },
      "source": [
        "a={'いち':1,'さん':3,'しち':7,'に':2,'よん':4,'はち':8}\n",
        "print(a)"
      ],
      "execution_count": 23,
      "outputs": [
        {
          "output_type": "stream",
          "text": [
            "{'いち': 1, 'さん': 3, 'しち': 7, 'に': 2, 'よん': 4, 'はち': 8}\n"
          ],
          "name": "stdout"
        }
      ]
    },
    {
      "cell_type": "code",
      "metadata": {
        "id": "kTl-ljUgaSWo",
        "colab_type": "code",
        "colab": {
          "base_uri": "https://localhost:8080/",
          "height": 33
        },
        "outputId": "1d650800-1a40-4d92-8362-80f794539b41"
      },
      "source": [
        "num_key=len(a)\n",
        "print(num_key)"
      ],
      "execution_count": 24,
      "outputs": [
        {
          "output_type": "stream",
          "text": [
            "6\n"
          ],
          "name": "stdout"
        }
      ]
    },
    {
      "cell_type": "code",
      "metadata": {
        "id": "hxfFTgTHa5lO",
        "colab_type": "code",
        "colab": {
          "base_uri": "https://localhost:8080/",
          "height": 33
        },
        "outputId": "481a6a1e-5f19-4acc-9bde-4a3f3f5c72ea"
      },
      "source": [
        "a['じゅういち']=11\n",
        "print(a)"
      ],
      "execution_count": 26,
      "outputs": [
        {
          "output_type": "stream",
          "text": [
            "{'いち': 1, 'さん': 3, 'しち': 7, 'に': 2, 'よん': 4, 'はち': 8, 'じゅういち': 11}\n"
          ],
          "name": "stdout"
        }
      ]
    },
    {
      "cell_type": "code",
      "metadata": {
        "id": "aFK9v6hSbpgC",
        "colab_type": "code",
        "colab": {
          "base_uri": "https://localhost:8080/",
          "height": 33
        },
        "outputId": "73c51ce6-7995-4d71-b239-a129aa9ab39f"
      },
      "source": [
        "sort_keys=sorted(a)\n",
        "print(a)"
      ],
      "execution_count": 27,
      "outputs": [
        {
          "output_type": "stream",
          "text": [
            "{'いち': 1, 'さん': 3, 'しち': 7, 'に': 2, 'よん': 4, 'はち': 8, 'じゅういち': 11}\n"
          ],
          "name": "stdout"
        }
      ]
    },
    {
      "cell_type": "code",
      "metadata": {
        "id": "NI_gG_DtdPle",
        "colab_type": "code",
        "colab": {
          "base_uri": "https://localhost:8080/",
          "height": 50
        },
        "outputId": "2aeaa094-2f62-4815-eec6-44678db0189d"
      },
      "source": [
        "sorted_values=sorted(a)\n",
        "sorted_values2=sorted(a.values())\n",
        "print(sorted_values)\n",
        "print(sorted_values2)"
      ],
      "execution_count": 30,
      "outputs": [
        {
          "output_type": "stream",
          "text": [
            "['いち', 'さん', 'しち', 'じゅういち', 'に', 'はち', 'よん']\n",
            "[1, 2, 3, 4, 7, 8, 11]\n"
          ],
          "name": "stdout"
        }
      ]
    },
    {
      "cell_type": "code",
      "metadata": {
        "id": "P7-ul69keR4S",
        "colab_type": "code",
        "colab": {
          "base_uri": "https://localhost:8080/",
          "height": 66
        },
        "outputId": "e4e30de0-4c07-4303-b174-fa3b12669131"
      },
      "source": [
        "print(\"please insert any numbers\")\n",
        "x = input()\n",
        "x = int(x)\n",
        "if x == 0:\n",
        " print(x,\"is zero\")\n",
        "elif x > 0:\n",
        "  print(x,\"is positive\")\n",
        "elif x <0:\n",
        "  print(x,\"is negative\")\n",
        "else:\n",
        "  print(x,\"is None\")"
      ],
      "execution_count": 37,
      "outputs": [
        {
          "output_type": "stream",
          "text": [
            "please insert any numbers\n",
            "1\n",
            "1 is positive\n"
          ],
          "name": "stdout"
        }
      ]
    },
    {
      "cell_type": "code",
      "metadata": {
        "id": "AGRaMKTKftTO",
        "colab_type": "code",
        "colab": {
          "base_uri": "https://localhost:8080/",
          "height": 50
        },
        "outputId": "057be143-5b97-4fff-9674-95c082ac4211"
      },
      "source": [
        "print(\"please put country name(Japan, Malaysia, UK, Europe< USA):\")\n",
        "x = input()\n",
        "print(\"please put the raw price of each good:\")\n",
        "raw_price_of_good = int(raw_price_of_good)\n",
        "if country == 'Japan':\n",
        "  tax_amount = 0,008\n",
        "  total_cost = raw_price_of_good * (1+)\n"
      ],
      "execution_count": 0,
      "outputs": [
        {
          "output_type": "stream",
          "text": [
            "please put country name(Japan, Malaysia, UK, Europe< USA):\n"
          ],
          "name": "stdout"
        }
      ]
    },
    {
      "cell_type": "code",
      "metadata": {
        "id": "rtBpvA7kiQVT",
        "colab_type": "code",
        "colab": {}
      },
      "source": [
        "x = input()\n",
        "x = str(x)\n",
        "y=input()\n",
        "y=int(y)\n",
        "if x ==\"japan\":\n",
        "  a=y+y *0,1\n",
        "  print(a)"
      ],
      "execution_count": 0,
      "outputs": []
    }
  ]
}