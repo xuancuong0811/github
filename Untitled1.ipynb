{
  "nbformat": 4,
  "nbformat_minor": 0,
  "metadata": {
    "colab": {
      "name": "Untitled1.ipynb",
      "provenance": [],
      "include_colab_link": true
    },
    "kernelspec": {
      "name": "python3",
      "display_name": "Python 3"
    }
  },
  "cells": [
    {
      "cell_type": "markdown",
      "metadata": {
        "id": "view-in-github",
        "colab_type": "text"
      },
      "source": [
        "<a href=\"https://colab.research.google.com/github/xuancuong0811/github/blob/master/Untitled1.ipynb\" target=\"_parent\"><img src=\"https://colab.research.google.com/assets/colab-badge.svg\" alt=\"Open In Colab\"/></a>"
      ]
    },
    {
      "cell_type": "code",
      "metadata": {
        "id": "nz18gy2PKI4A",
        "colab_type": "code",
        "colab": {
          "base_uri": "https://localhost:8080/",
          "height": 204
        },
        "outputId": "c1e9fa71-2e1a-4f53-e649-0e8939975634"
      },
      "source": [
        "x=\"hello\"\n",
        "type(x)\n",
        "print(x)\n",
        "x=1\n",
        "print(x)\n",
        "x=[1,2,3]\n",
        "y=x\n",
        "print(y)\n",
        "x.append(5)\n",
        "print(y)\n",
        "type(x)\n",
        "print(11/3)\n",
        "print(11//3)\n",
        "i=(5+2)*(12/4)\n",
        "print(i)\n",
        "print(2**5)\n",
        "12|4\n",
        "bin(12|4)\n",
        "print(0b101>>0b1000011)\n",
        "print(~0b101)\n",
        "print(~0b1000011)"
      ],
      "execution_count": 23,
      "outputs": [
        {
          "output_type": "stream",
          "text": [
            "hello\n",
            "1\n",
            "[1, 2, 3]\n",
            "[1, 2, 3, 5]\n",
            "3.6666666666666665\n",
            "3\n",
            "21.0\n",
            "32\n",
            "0\n",
            "-6\n",
            "-68\n"
          ],
          "name": "stdout"
        }
      ]
    }
  ]
}